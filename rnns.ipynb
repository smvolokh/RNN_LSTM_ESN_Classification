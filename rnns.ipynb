{
  "nbformat": 4,
  "nbformat_minor": 0,
  "metadata": {
    "colab": {
      "name": "rnns.ipynb",
      "provenance": [],
      "collapsed_sections": []
    },
    "kernelspec": {
      "name": "python3",
      "display_name": "Python 3"
    },
    "language_info": {
      "name": "python"
    },
    "accelerator": "GPU"
  },
  "cells": [
    {
      "cell_type": "code",
      "execution_count": null,
      "metadata": {
        "id": "XRGB6VsxaZmo"
      },
      "outputs": [],
      "source": [
        "import pandas as pd\n",
        "import numpy as np\n",
        "from sklearn.model_selection import train_test_split"
      ]
    },
    {
      "cell_type": "code",
      "source": [
        "import tensorflow as tf\n",
        "import keras.backend as K\n",
        "\n",
        "def f1_score_macro(y_true, y_pred):\n",
        "\n",
        "    tp = K.sum(K.cast(y_true*y_pred, 'float'), axis=0)\n",
        "    tn = K.sum(K.cast((1-y_true)*(1-y_pred), 'float'), axis=0)\n",
        "    fp = K.sum(K.cast((1-y_true)*y_pred, 'float'), axis=0)\n",
        "    fn = K.sum(K.cast(y_true*(1-y_pred), 'float'), axis=0)\n",
        "\n",
        "    p = tp / (tp + fp + K.epsilon())\n",
        "    r = tp / (tp + fn + K.epsilon())\n",
        "\n",
        "    f1 = 2*p*r / (p+r+K.epsilon())\n",
        "    f1 = tf.where(tf.math.is_nan(f1), tf.zeros_like(f1), f1)\n",
        "    return K.mean(f1)"
      ],
      "metadata": {
        "id": "0KvMgD1Qp8Fs"
      },
      "execution_count": null,
      "outputs": []
    },
    {
      "cell_type": "code",
      "source": [
        "df = pd.read_csv('Occupancy_Estimation_r.csv')\n",
        "df.index = df.Date + ' ' + df.Time\n",
        "df.drop(['Date', 'Time'], axis=1, inplace=True)\n",
        "df"
      ],
      "metadata": {
        "colab": {
          "base_uri": "https://localhost:8080/",
          "height": 468
        },
        "id": "63BvJL6Masi4",
        "outputId": "545600e8-7bb3-4d6a-f884-db6e2cf4b3ce"
      },
      "execution_count": null,
      "outputs": [
        {
          "output_type": "execute_result",
          "data": {
            "text/plain": [
              "                     S1_Temp  S2_Temp  S3_Temp  S4_Temp  S1_Light  S2_Light  \\\n",
              "2017/12/22 10:49:41    24.94    24.75    24.56    25.38       121        34   \n",
              "2017/12/22 10:50:12    24.94    24.75    24.56    25.44       121        33   \n",
              "2017/12/22 10:50:42    25.00    24.75    24.50    25.44       121        34   \n",
              "2017/12/22 10:51:13    25.00    24.75    24.56    25.44       121        34   \n",
              "2017/12/22 10:51:44    25.00    24.75    24.56    25.44       121        34   \n",
              "...                      ...      ...      ...      ...       ...       ...   \n",
              "2018/01/11 08:58:07    25.06    25.13    24.69    25.31         6         7   \n",
              "2018/01/11 08:58:37    25.06    25.06    24.69    25.25         6         7   \n",
              "2018/01/11 08:59:08    25.13    25.06    24.69    25.25         6         7   \n",
              "2018/01/11 08:59:39    25.13    25.06    24.69    25.25         6         7   \n",
              "2018/01/11 09:00:09    25.13    25.06    24.69    25.25         6         7   \n",
              "\n",
              "                     S3_Light  S4_Light  S1_Sound  S2_Sound  S3_Sound  \\\n",
              "2017/12/22 10:49:41        53        40      0.08      0.19      0.06   \n",
              "2017/12/22 10:50:12        53        40      0.93      0.05      0.06   \n",
              "2017/12/22 10:50:42        53        40      0.43      0.11      0.08   \n",
              "2017/12/22 10:51:13        53        40      0.41      0.10      0.10   \n",
              "2017/12/22 10:51:44        54        40      0.18      0.06      0.06   \n",
              "...                       ...       ...       ...       ...       ...   \n",
              "2018/01/11 08:58:07        33        22      0.09      0.04      0.06   \n",
              "2018/01/11 08:58:37        34        22      0.07      0.05      0.05   \n",
              "2018/01/11 08:59:08        34        22      0.11      0.05      0.06   \n",
              "2018/01/11 08:59:39        34        22      0.08      0.08      0.10   \n",
              "2018/01/11 09:00:09        34        22      0.08      0.05      0.06   \n",
              "\n",
              "                     S4_Sound  S5_CO2  S5_CO2_Slope  S6_PIR  S7_PIR  \\\n",
              "2017/12/22 10:49:41      0.06     390      0.769231       0       0   \n",
              "2017/12/22 10:50:12      0.06     390      0.646154       0       0   \n",
              "2017/12/22 10:50:42      0.06     390      0.519231       0       0   \n",
              "2017/12/22 10:51:13      0.09     390      0.388462       0       0   \n",
              "2017/12/22 10:51:44      0.06     390      0.253846       0       0   \n",
              "...                       ...     ...           ...     ...     ...   \n",
              "2018/01/11 08:58:07      0.08     345      0.000000       0       0   \n",
              "2018/01/11 08:58:37      0.08     345      0.000000       0       0   \n",
              "2018/01/11 08:59:08      0.08     345      0.000000       0       0   \n",
              "2018/01/11 08:59:39      0.08     345      0.000000       0       0   \n",
              "2018/01/11 09:00:09      0.08     345      0.000000       0       0   \n",
              "\n",
              "                     Room_Occupancy_Count  \n",
              "2017/12/22 10:49:41                     1  \n",
              "2017/12/22 10:50:12                     1  \n",
              "2017/12/22 10:50:42                     1  \n",
              "2017/12/22 10:51:13                     1  \n",
              "2017/12/22 10:51:44                     1  \n",
              "...                                   ...  \n",
              "2018/01/11 08:58:07                     0  \n",
              "2018/01/11 08:58:37                     0  \n",
              "2018/01/11 08:59:08                     0  \n",
              "2018/01/11 08:59:39                     0  \n",
              "2018/01/11 09:00:09                     0  \n",
              "\n",
              "[10129 rows x 17 columns]"
            ],
            "text/html": [
              "\n",
              "  <div id=\"df-8a287847-bd00-4928-b177-11df980eca23\">\n",
              "    <div class=\"colab-df-container\">\n",
              "      <div>\n",
              "<style scoped>\n",
              "    .dataframe tbody tr th:only-of-type {\n",
              "        vertical-align: middle;\n",
              "    }\n",
              "\n",
              "    .dataframe tbody tr th {\n",
              "        vertical-align: top;\n",
              "    }\n",
              "\n",
              "    .dataframe thead th {\n",
              "        text-align: right;\n",
              "    }\n",
              "</style>\n",
              "<table border=\"1\" class=\"dataframe\">\n",
              "  <thead>\n",
              "    <tr style=\"text-align: right;\">\n",
              "      <th></th>\n",
              "      <th>S1_Temp</th>\n",
              "      <th>S2_Temp</th>\n",
              "      <th>S3_Temp</th>\n",
              "      <th>S4_Temp</th>\n",
              "      <th>S1_Light</th>\n",
              "      <th>S2_Light</th>\n",
              "      <th>S3_Light</th>\n",
              "      <th>S4_Light</th>\n",
              "      <th>S1_Sound</th>\n",
              "      <th>S2_Sound</th>\n",
              "      <th>S3_Sound</th>\n",
              "      <th>S4_Sound</th>\n",
              "      <th>S5_CO2</th>\n",
              "      <th>S5_CO2_Slope</th>\n",
              "      <th>S6_PIR</th>\n",
              "      <th>S7_PIR</th>\n",
              "      <th>Room_Occupancy_Count</th>\n",
              "    </tr>\n",
              "  </thead>\n",
              "  <tbody>\n",
              "    <tr>\n",
              "      <th>2017/12/22 10:49:41</th>\n",
              "      <td>24.94</td>\n",
              "      <td>24.75</td>\n",
              "      <td>24.56</td>\n",
              "      <td>25.38</td>\n",
              "      <td>121</td>\n",
              "      <td>34</td>\n",
              "      <td>53</td>\n",
              "      <td>40</td>\n",
              "      <td>0.08</td>\n",
              "      <td>0.19</td>\n",
              "      <td>0.06</td>\n",
              "      <td>0.06</td>\n",
              "      <td>390</td>\n",
              "      <td>0.769231</td>\n",
              "      <td>0</td>\n",
              "      <td>0</td>\n",
              "      <td>1</td>\n",
              "    </tr>\n",
              "    <tr>\n",
              "      <th>2017/12/22 10:50:12</th>\n",
              "      <td>24.94</td>\n",
              "      <td>24.75</td>\n",
              "      <td>24.56</td>\n",
              "      <td>25.44</td>\n",
              "      <td>121</td>\n",
              "      <td>33</td>\n",
              "      <td>53</td>\n",
              "      <td>40</td>\n",
              "      <td>0.93</td>\n",
              "      <td>0.05</td>\n",
              "      <td>0.06</td>\n",
              "      <td>0.06</td>\n",
              "      <td>390</td>\n",
              "      <td>0.646154</td>\n",
              "      <td>0</td>\n",
              "      <td>0</td>\n",
              "      <td>1</td>\n",
              "    </tr>\n",
              "    <tr>\n",
              "      <th>2017/12/22 10:50:42</th>\n",
              "      <td>25.00</td>\n",
              "      <td>24.75</td>\n",
              "      <td>24.50</td>\n",
              "      <td>25.44</td>\n",
              "      <td>121</td>\n",
              "      <td>34</td>\n",
              "      <td>53</td>\n",
              "      <td>40</td>\n",
              "      <td>0.43</td>\n",
              "      <td>0.11</td>\n",
              "      <td>0.08</td>\n",
              "      <td>0.06</td>\n",
              "      <td>390</td>\n",
              "      <td>0.519231</td>\n",
              "      <td>0</td>\n",
              "      <td>0</td>\n",
              "      <td>1</td>\n",
              "    </tr>\n",
              "    <tr>\n",
              "      <th>2017/12/22 10:51:13</th>\n",
              "      <td>25.00</td>\n",
              "      <td>24.75</td>\n",
              "      <td>24.56</td>\n",
              "      <td>25.44</td>\n",
              "      <td>121</td>\n",
              "      <td>34</td>\n",
              "      <td>53</td>\n",
              "      <td>40</td>\n",
              "      <td>0.41</td>\n",
              "      <td>0.10</td>\n",
              "      <td>0.10</td>\n",
              "      <td>0.09</td>\n",
              "      <td>390</td>\n",
              "      <td>0.388462</td>\n",
              "      <td>0</td>\n",
              "      <td>0</td>\n",
              "      <td>1</td>\n",
              "    </tr>\n",
              "    <tr>\n",
              "      <th>2017/12/22 10:51:44</th>\n",
              "      <td>25.00</td>\n",
              "      <td>24.75</td>\n",
              "      <td>24.56</td>\n",
              "      <td>25.44</td>\n",
              "      <td>121</td>\n",
              "      <td>34</td>\n",
              "      <td>54</td>\n",
              "      <td>40</td>\n",
              "      <td>0.18</td>\n",
              "      <td>0.06</td>\n",
              "      <td>0.06</td>\n",
              "      <td>0.06</td>\n",
              "      <td>390</td>\n",
              "      <td>0.253846</td>\n",
              "      <td>0</td>\n",
              "      <td>0</td>\n",
              "      <td>1</td>\n",
              "    </tr>\n",
              "    <tr>\n",
              "      <th>...</th>\n",
              "      <td>...</td>\n",
              "      <td>...</td>\n",
              "      <td>...</td>\n",
              "      <td>...</td>\n",
              "      <td>...</td>\n",
              "      <td>...</td>\n",
              "      <td>...</td>\n",
              "      <td>...</td>\n",
              "      <td>...</td>\n",
              "      <td>...</td>\n",
              "      <td>...</td>\n",
              "      <td>...</td>\n",
              "      <td>...</td>\n",
              "      <td>...</td>\n",
              "      <td>...</td>\n",
              "      <td>...</td>\n",
              "      <td>...</td>\n",
              "    </tr>\n",
              "    <tr>\n",
              "      <th>2018/01/11 08:58:07</th>\n",
              "      <td>25.06</td>\n",
              "      <td>25.13</td>\n",
              "      <td>24.69</td>\n",
              "      <td>25.31</td>\n",
              "      <td>6</td>\n",
              "      <td>7</td>\n",
              "      <td>33</td>\n",
              "      <td>22</td>\n",
              "      <td>0.09</td>\n",
              "      <td>0.04</td>\n",
              "      <td>0.06</td>\n",
              "      <td>0.08</td>\n",
              "      <td>345</td>\n",
              "      <td>0.000000</td>\n",
              "      <td>0</td>\n",
              "      <td>0</td>\n",
              "      <td>0</td>\n",
              "    </tr>\n",
              "    <tr>\n",
              "      <th>2018/01/11 08:58:37</th>\n",
              "      <td>25.06</td>\n",
              "      <td>25.06</td>\n",
              "      <td>24.69</td>\n",
              "      <td>25.25</td>\n",
              "      <td>6</td>\n",
              "      <td>7</td>\n",
              "      <td>34</td>\n",
              "      <td>22</td>\n",
              "      <td>0.07</td>\n",
              "      <td>0.05</td>\n",
              "      <td>0.05</td>\n",
              "      <td>0.08</td>\n",
              "      <td>345</td>\n",
              "      <td>0.000000</td>\n",
              "      <td>0</td>\n",
              "      <td>0</td>\n",
              "      <td>0</td>\n",
              "    </tr>\n",
              "    <tr>\n",
              "      <th>2018/01/11 08:59:08</th>\n",
              "      <td>25.13</td>\n",
              "      <td>25.06</td>\n",
              "      <td>24.69</td>\n",
              "      <td>25.25</td>\n",
              "      <td>6</td>\n",
              "      <td>7</td>\n",
              "      <td>34</td>\n",
              "      <td>22</td>\n",
              "      <td>0.11</td>\n",
              "      <td>0.05</td>\n",
              "      <td>0.06</td>\n",
              "      <td>0.08</td>\n",
              "      <td>345</td>\n",
              "      <td>0.000000</td>\n",
              "      <td>0</td>\n",
              "      <td>0</td>\n",
              "      <td>0</td>\n",
              "    </tr>\n",
              "    <tr>\n",
              "      <th>2018/01/11 08:59:39</th>\n",
              "      <td>25.13</td>\n",
              "      <td>25.06</td>\n",
              "      <td>24.69</td>\n",
              "      <td>25.25</td>\n",
              "      <td>6</td>\n",
              "      <td>7</td>\n",
              "      <td>34</td>\n",
              "      <td>22</td>\n",
              "      <td>0.08</td>\n",
              "      <td>0.08</td>\n",
              "      <td>0.10</td>\n",
              "      <td>0.08</td>\n",
              "      <td>345</td>\n",
              "      <td>0.000000</td>\n",
              "      <td>0</td>\n",
              "      <td>0</td>\n",
              "      <td>0</td>\n",
              "    </tr>\n",
              "    <tr>\n",
              "      <th>2018/01/11 09:00:09</th>\n",
              "      <td>25.13</td>\n",
              "      <td>25.06</td>\n",
              "      <td>24.69</td>\n",
              "      <td>25.25</td>\n",
              "      <td>6</td>\n",
              "      <td>7</td>\n",
              "      <td>34</td>\n",
              "      <td>22</td>\n",
              "      <td>0.08</td>\n",
              "      <td>0.05</td>\n",
              "      <td>0.06</td>\n",
              "      <td>0.08</td>\n",
              "      <td>345</td>\n",
              "      <td>0.000000</td>\n",
              "      <td>0</td>\n",
              "      <td>0</td>\n",
              "      <td>0</td>\n",
              "    </tr>\n",
              "  </tbody>\n",
              "</table>\n",
              "<p>10129 rows × 17 columns</p>\n",
              "</div>\n",
              "      <button class=\"colab-df-convert\" onclick=\"convertToInteractive('df-8a287847-bd00-4928-b177-11df980eca23')\"\n",
              "              title=\"Convert this dataframe to an interactive table.\"\n",
              "              style=\"display:none;\">\n",
              "        \n",
              "  <svg xmlns=\"http://www.w3.org/2000/svg\" height=\"24px\"viewBox=\"0 0 24 24\"\n",
              "       width=\"24px\">\n",
              "    <path d=\"M0 0h24v24H0V0z\" fill=\"none\"/>\n",
              "    <path d=\"M18.56 5.44l.94 2.06.94-2.06 2.06-.94-2.06-.94-.94-2.06-.94 2.06-2.06.94zm-11 1L8.5 8.5l.94-2.06 2.06-.94-2.06-.94L8.5 2.5l-.94 2.06-2.06.94zm10 10l.94 2.06.94-2.06 2.06-.94-2.06-.94-.94-2.06-.94 2.06-2.06.94z\"/><path d=\"M17.41 7.96l-1.37-1.37c-.4-.4-.92-.59-1.43-.59-.52 0-1.04.2-1.43.59L10.3 9.45l-7.72 7.72c-.78.78-.78 2.05 0 2.83L4 21.41c.39.39.9.59 1.41.59.51 0 1.02-.2 1.41-.59l7.78-7.78 2.81-2.81c.8-.78.8-2.07 0-2.86zM5.41 20L4 18.59l7.72-7.72 1.47 1.35L5.41 20z\"/>\n",
              "  </svg>\n",
              "      </button>\n",
              "      \n",
              "  <style>\n",
              "    .colab-df-container {\n",
              "      display:flex;\n",
              "      flex-wrap:wrap;\n",
              "      gap: 12px;\n",
              "    }\n",
              "\n",
              "    .colab-df-convert {\n",
              "      background-color: #E8F0FE;\n",
              "      border: none;\n",
              "      border-radius: 50%;\n",
              "      cursor: pointer;\n",
              "      display: none;\n",
              "      fill: #1967D2;\n",
              "      height: 32px;\n",
              "      padding: 0 0 0 0;\n",
              "      width: 32px;\n",
              "    }\n",
              "\n",
              "    .colab-df-convert:hover {\n",
              "      background-color: #E2EBFA;\n",
              "      box-shadow: 0px 1px 2px rgba(60, 64, 67, 0.3), 0px 1px 3px 1px rgba(60, 64, 67, 0.15);\n",
              "      fill: #174EA6;\n",
              "    }\n",
              "\n",
              "    [theme=dark] .colab-df-convert {\n",
              "      background-color: #3B4455;\n",
              "      fill: #D2E3FC;\n",
              "    }\n",
              "\n",
              "    [theme=dark] .colab-df-convert:hover {\n",
              "      background-color: #434B5C;\n",
              "      box-shadow: 0px 1px 3px 1px rgba(0, 0, 0, 0.15);\n",
              "      filter: drop-shadow(0px 1px 2px rgba(0, 0, 0, 0.3));\n",
              "      fill: #FFFFFF;\n",
              "    }\n",
              "  </style>\n",
              "\n",
              "      <script>\n",
              "        const buttonEl =\n",
              "          document.querySelector('#df-8a287847-bd00-4928-b177-11df980eca23 button.colab-df-convert');\n",
              "        buttonEl.style.display =\n",
              "          google.colab.kernel.accessAllowed ? 'block' : 'none';\n",
              "\n",
              "        async function convertToInteractive(key) {\n",
              "          const element = document.querySelector('#df-8a287847-bd00-4928-b177-11df980eca23');\n",
              "          const dataTable =\n",
              "            await google.colab.kernel.invokeFunction('convertToInteractive',\n",
              "                                                     [key], {});\n",
              "          if (!dataTable) return;\n",
              "\n",
              "          const docLinkHtml = 'Like what you see? Visit the ' +\n",
              "            '<a target=\"_blank\" href=https://colab.research.google.com/notebooks/data_table.ipynb>data table notebook</a>'\n",
              "            + ' to learn more about interactive tables.';\n",
              "          element.innerHTML = '';\n",
              "          dataTable['output_type'] = 'display_data';\n",
              "          await google.colab.output.renderOutput(dataTable, element);\n",
              "          const docLink = document.createElement('div');\n",
              "          docLink.innerHTML = docLinkHtml;\n",
              "          element.appendChild(docLink);\n",
              "        }\n",
              "      </script>\n",
              "    </div>\n",
              "  </div>\n",
              "  "
            ]
          },
          "metadata": {},
          "execution_count": 29
        }
      ]
    },
    {
      "cell_type": "code",
      "source": [
        "df.info()"
      ],
      "metadata": {
        "colab": {
          "base_uri": "https://localhost:8080/"
        },
        "id": "3CLcQvfsbGzy",
        "outputId": "6258150d-88a5-4b30-e8f5-1245ea8e9445"
      },
      "execution_count": null,
      "outputs": [
        {
          "output_type": "stream",
          "name": "stdout",
          "text": [
            "<class 'pandas.core.frame.DataFrame'>\n",
            "Index: 10129 entries, 2017/12/22 10:49:41 to 2018/01/11 09:00:09\n",
            "Data columns (total 17 columns):\n",
            " #   Column                Non-Null Count  Dtype  \n",
            "---  ------                --------------  -----  \n",
            " 0   S1_Temp               10129 non-null  float64\n",
            " 1   S2_Temp               10129 non-null  float64\n",
            " 2   S3_Temp               10129 non-null  float64\n",
            " 3   S4_Temp               10129 non-null  float64\n",
            " 4   S1_Light              10129 non-null  int64  \n",
            " 5   S2_Light              10129 non-null  int64  \n",
            " 6   S3_Light              10129 non-null  int64  \n",
            " 7   S4_Light              10129 non-null  int64  \n",
            " 8   S1_Sound              10129 non-null  float64\n",
            " 9   S2_Sound              10129 non-null  float64\n",
            " 10  S3_Sound              10129 non-null  float64\n",
            " 11  S4_Sound              10129 non-null  float64\n",
            " 12  S5_CO2                10129 non-null  int64  \n",
            " 13  S5_CO2_Slope          10129 non-null  float64\n",
            " 14  S6_PIR                10129 non-null  int64  \n",
            " 15  S7_PIR                10129 non-null  int64  \n",
            " 16  Room_Occupancy_Count  10129 non-null  int64  \n",
            "dtypes: float64(9), int64(8)\n",
            "memory usage: 1.4+ MB\n"
          ]
        }
      ]
    },
    {
      "cell_type": "code",
      "source": [
        "df = df.astype({\n",
        "    'S1_Light': np.float64,\n",
        "    'S2_Light': np.float64,\n",
        "    'S3_Light': np.float64,\n",
        "    'S4_Light': np.float64,\n",
        "    'S5_CO2': np.float64,\n",
        "    'S6_PIR': np.float64,\n",
        "    'S7_PIR': np.float64,\n",
        "})\n",
        "df.info()"
      ],
      "metadata": {
        "colab": {
          "base_uri": "https://localhost:8080/"
        },
        "id": "H9RpeWgRbH8x",
        "outputId": "d887b142-ed81-47bc-9d44-dbf48ec5a156"
      },
      "execution_count": null,
      "outputs": [
        {
          "output_type": "stream",
          "name": "stdout",
          "text": [
            "<class 'pandas.core.frame.DataFrame'>\n",
            "Index: 10129 entries, 2017/12/22 10:49:41 to 2018/01/11 09:00:09\n",
            "Data columns (total 17 columns):\n",
            " #   Column                Non-Null Count  Dtype  \n",
            "---  ------                --------------  -----  \n",
            " 0   S1_Temp               10129 non-null  float64\n",
            " 1   S2_Temp               10129 non-null  float64\n",
            " 2   S3_Temp               10129 non-null  float64\n",
            " 3   S4_Temp               10129 non-null  float64\n",
            " 4   S1_Light              10129 non-null  float64\n",
            " 5   S2_Light              10129 non-null  float64\n",
            " 6   S3_Light              10129 non-null  float64\n",
            " 7   S4_Light              10129 non-null  float64\n",
            " 8   S1_Sound              10129 non-null  float64\n",
            " 9   S2_Sound              10129 non-null  float64\n",
            " 10  S3_Sound              10129 non-null  float64\n",
            " 11  S4_Sound              10129 non-null  float64\n",
            " 12  S5_CO2                10129 non-null  float64\n",
            " 13  S5_CO2_Slope          10129 non-null  float64\n",
            " 14  S6_PIR                10129 non-null  float64\n",
            " 15  S7_PIR                10129 non-null  float64\n",
            " 16  Room_Occupancy_Count  10129 non-null  int64  \n",
            "dtypes: float64(16), int64(1)\n",
            "memory usage: 1.4+ MB\n"
          ]
        }
      ]
    },
    {
      "cell_type": "code",
      "source": [
        "df['Room_Occupancy_Count'].value_counts()"
      ],
      "metadata": {
        "colab": {
          "base_uri": "https://localhost:8080/"
        },
        "id": "RFkUnkTGa5lP",
        "outputId": "19a5f0fa-5fd8-4789-f135-a7f1fbe2e58d"
      },
      "execution_count": null,
      "outputs": [
        {
          "output_type": "execute_result",
          "data": {
            "text/plain": [
              "0    8228\n",
              "2     748\n",
              "3     694\n",
              "1     459\n",
              "Name: Room_Occupancy_Count, dtype: int64"
            ]
          },
          "metadata": {},
          "execution_count": 11
        }
      ]
    },
    {
      "cell_type": "code",
      "source": [
        "df.shape"
      ],
      "metadata": {
        "colab": {
          "base_uri": "https://localhost:8080/"
        },
        "id": "zUlZ8UKeFW-8",
        "outputId": "06eeb602-a069-4746-f373-e57c8c6d2d54"
      },
      "execution_count": null,
      "outputs": [
        {
          "output_type": "execute_result",
          "data": {
            "text/plain": [
              "(10129, 17)"
            ]
          },
          "metadata": {},
          "execution_count": 12
        }
      ]
    },
    {
      "cell_type": "code",
      "source": [
        "from sklearn.model_selection import train_test_split\n",
        "X_train, X_test, y_train, y_test = train_test_split(df.drop('Room_Occupancy_Count', axis=1),\n",
        "                                                    df['Room_Occupancy_Count'],\n",
        "                                                    test_size=0.25,\n",
        "                                                    random_state=19)"
      ],
      "metadata": {
        "id": "9KqCfhzza7we"
      },
      "execution_count": null,
      "outputs": []
    },
    {
      "cell_type": "code",
      "source": [
        "X_train.shape, X_test.shape, y_train.shape, y_test.shape"
      ],
      "metadata": {
        "colab": {
          "base_uri": "https://localhost:8080/"
        },
        "id": "FAz6yK8Yb0-C",
        "outputId": "6350ae7a-50a0-413f-f6b2-dca29d032d9d"
      },
      "execution_count": null,
      "outputs": [
        {
          "output_type": "execute_result",
          "data": {
            "text/plain": [
              "((7596, 16), (2533, 16), (7596,), (2533,))"
            ]
          },
          "metadata": {},
          "execution_count": 31
        }
      ]
    },
    {
      "cell_type": "code",
      "source": [
        "from keras.models import Sequential\n",
        "from keras.layers import Dense, SimpleRNN, BatchNormalization, Flatten\n",
        "from tensorflow.keras.optimizers import Adam\n",
        "from keras.callbacks import ReduceLROnPlateau\n",
        "from keras.regularizers import l2"
      ],
      "metadata": {
        "id": "R1SOyToqdo4I"
      },
      "execution_count": null,
      "outputs": []
    },
    {
      "cell_type": "code",
      "source": [
        "timesteps = 60 \n",
        "prep = X_train.iloc[-(timesteps-1):]\n",
        "X_test = pd.concat([prep, X_test], axis=0)\n",
        "X_train.shape, X_test.shape, y_train.shape, y_test.shape"
      ],
      "metadata": {
        "colab": {
          "base_uri": "https://localhost:8080/"
        },
        "id": "zcQju1fub5e2",
        "outputId": "d4335868-502c-45f0-92a4-31edc8673a5f"
      },
      "execution_count": null,
      "outputs": [
        {
          "output_type": "execute_result",
          "data": {
            "text/plain": [
              "((7596, 16), (2592, 16), (7596,), (2533,))"
            ]
          },
          "metadata": {},
          "execution_count": 33
        }
      ]
    },
    {
      "cell_type": "code",
      "source": [
        "from sklearn.preprocessing import StandardScaler\n",
        "scaler = StandardScaler()\n",
        "X_train_scaled = pd.DataFrame(scaler.fit_transform(X_train.values),\n",
        "                              index=X_train.index,\n",
        "                              columns=X_train.columns)\n",
        "X_test_scaled = pd.DataFrame(scaler.fit_transform(X_test.values),\n",
        "                             index=X_test.index,\n",
        "                             columns=X_test.columns)\n",
        "X_train_scaled.shape, X_test_scaled.shape"
      ],
      "metadata": {
        "colab": {
          "base_uri": "https://localhost:8080/"
        },
        "id": "BbAJAIZwcLGN",
        "outputId": "0f15c80f-d226-4a24-bb92-b69d6a6e171d"
      },
      "execution_count": null,
      "outputs": [
        {
          "output_type": "execute_result",
          "data": {
            "text/plain": [
              "((7596, 16), (2592, 16))"
            ]
          },
          "metadata": {},
          "execution_count": 34
        }
      ]
    },
    {
      "cell_type": "code",
      "source": [
        "X_t, y_t = [], []\n",
        "for i in range(y_train.shape[0] - (timesteps-1)):\n",
        "    X_t.append(X_train_scaled.iloc[i:i+timesteps].values)\n",
        "    y_t.append(y_train.iloc[i+(timesteps-1)])\n",
        "X_train, y_train = np.array(X_t), np.array(y_t).reshape(-1, 1)\n",
        "print(f'Train data dimensions: {X_train.shape}, {y_train.shape}')"
      ],
      "metadata": {
        "colab": {
          "base_uri": "https://localhost:8080/"
        },
        "id": "3uWsnC7dcYCK",
        "outputId": "5a77c3d1-af91-4622-f529-21479ac30244"
      },
      "execution_count": null,
      "outputs": [
        {
          "output_type": "stream",
          "name": "stdout",
          "text": [
            "Train data dimensions: (7537, 60, 16), (7537, 1)\n"
          ]
        }
      ]
    },
    {
      "cell_type": "code",
      "source": [
        "X_tst, y_tst = [], []\n",
        "for i in range(y_test.shape[0]):\n",
        "    X_tst.append(X_test_scaled.iloc[i:i+timesteps].values)\n",
        "    y_tst.append(y_test.iloc[i])\n",
        "X_test, y_test = np.array(X_tst), np.array(y_tst).reshape(-1,1)\n",
        "print(f'Test data dimensions: {X_test.shape}, {y_test.shape}')"
      ],
      "metadata": {
        "colab": {
          "base_uri": "https://localhost:8080/"
        },
        "id": "dy6cdUsjcowE",
        "outputId": "e59caff8-2bcc-4c3f-d2a9-56857c3b56b4"
      },
      "execution_count": null,
      "outputs": [
        {
          "output_type": "stream",
          "name": "stdout",
          "text": [
            "Test data dimensions: (2533, 60, 16), (2533, 1)\n"
          ]
        }
      ]
    },
    {
      "cell_type": "code",
      "source": [
        "from keras.models import Sequential\n",
        "from keras.layers import Dense, LSTM, BatchNormalization, Dropout\n",
        "from tensorflow.keras.optimizers import Adam\n",
        "from keras.callbacks import ReduceLROnPlateau\n",
        "from keras.regularizers import l2"
      ],
      "metadata": {
        "id": "qTqXamfUcxuQ"
      },
      "execution_count": null,
      "outputs": []
    },
    {
      "cell_type": "markdown",
      "source": [
        "# RNN"
      ],
      "metadata": {
        "id": "8jLCo4IDd2uG"
      }
    },
    {
      "cell_type": "code",
      "source": [
        "N = X_train.shape[2]\n",
        "LEARNING_RATE = 1e-4\n",
        "BATCH_SIZE = 60\n",
        "PENALTY = 0.05\n",
        "CLASSES = len(np.unique(y_test))"
      ],
      "metadata": {
        "id": "WxBH45Iq1SAL"
      },
      "execution_count": null,
      "outputs": []
    },
    {
      "cell_type": "code",
      "source": [
        "import tensorflow as tf\n",
        "y_train=tf.keras.utils.to_categorical(y_train, num_classes=CLASSES)\n"
      ],
      "metadata": {
        "id": "hrvzKU7-1GN3"
      },
      "execution_count": null,
      "outputs": []
    },
    {
      "cell_type": "code",
      "source": [
        "y_test=tf.keras.utils.to_categorical(y_test, num_classes=CLASSES)"
      ],
      "metadata": {
        "id": "Oz0NAE-I1Zo2"
      },
      "execution_count": null,
      "outputs": []
    },
    {
      "cell_type": "code",
      "source": [
        "lr_decay = ReduceLROnPlateau(monitor='loss',\n",
        "                            patience=1, verbose=0,\n",
        "                            factor=0.5)"
      ],
      "metadata": {
        "id": "Kd9FEJG7Omn7"
      },
      "execution_count": null,
      "outputs": []
    },
    {
      "cell_type": "code",
      "source": [
        "rnn = Sequential()\n",
        "rnn.add(SimpleRNN(input_shape=(timesteps, N),units=64,return_sequences=False,\n",
        "                  kernel_regularizer=l2(PENALTY), recurrent_regularizer=l2(PENALTY),\n",
        "                  dropout=0.2, recurrent_dropout=0.0))\n",
        "rnn.add(BatchNormalization())\n",
        "rnn.add(Dense(CLASSES, activation=\"softmax\"))\n",
        "rnn.compile(loss='categorical_crossentropy',\n",
        "            metrics=[f1_score_macro],\n",
        "            optimizer=Adam(learning_rate=LEARNING_RATE))\n",
        "print(rnn.summary())"
      ],
      "metadata": {
        "id": "Hf-S64ppows7"
      },
      "execution_count": null,
      "outputs": []
    },
    {
      "cell_type": "code",
      "source": [
        "rnn = Sequential()\n",
        "rnn.add(SimpleRNN(units=64,return_sequences=False,\n",
        "                  kernel_regularizer=l2(PENALTY), recurrent_regularizer=l2(PENALTY),\n",
        "                  dropout=0.2, recurrent_dropout=0.0))\n",
        "rnn.add(BatchNormalization())\n",
        "rnn.add(Dense(CLASSES, activation=\"softmax\"))\n",
        "rnn.compile(loss='categorical_crossentropy',\n",
        "            metrics=[f1_score_macro],\n",
        "            optimizer=Adam(learning_rate=LEARNING_RATE))\n",
        "rnn.build((60, 60, 16))\n",
        "print(rnn.summary())"
      ],
      "metadata": {
        "id": "mkmTj2JsAXOu"
      },
      "execution_count": null,
      "outputs": []
    },
    {
      "cell_type": "code",
      "source": [
        "history_rnn = rnn.fit(X_train, y_train,\n",
        "                      epochs=10,\n",
        "                      batch_size=BATCH_SIZE,\n",
        "                      validation_split=0.0,\n",
        "                      validation_data=(X_test, y_test),\n",
        "                      shuffle=True,\n",
        "                      )"
      ],
      "metadata": {
        "id": "NXt0Q65KBEXU"
      },
      "execution_count": null,
      "outputs": []
    },
    {
      "cell_type": "code",
      "source": [
        "history_rnn = rnn.fit(X_train, y_train,\n",
        "                      epochs=50,\n",
        "                      batch_size=BATCH_SIZE,\n",
        "                      validation_split=0.0,\n",
        "                      validation_data=(X_test, y_test),\n",
        "                      shuffle=True,\n",
        "                      callbacks=[lr_decay],\n",
        "                      )"
      ],
      "metadata": {
        "id": "GUpc6MzNo0eB"
      },
      "execution_count": null,
      "outputs": []
    },
    {
      "cell_type": "code",
      "source": [
        "test_loss_rnn, test_f1_rnn = rnn.evaluate(X_test, y_test,\n",
        "                                         batch_size=BATCH_SIZE)"
      ],
      "metadata": {
        "colab": {
          "base_uri": "https://localhost:8080/"
        },
        "id": "SLHmCskDuw5a",
        "outputId": "a4f18ae8-2173-4fbe-cd24-839d2eba9931"
      },
      "execution_count": null,
      "outputs": [
        {
          "output_type": "stream",
          "name": "stdout",
          "text": [
            "38/38 [==============================] - 0s 11ms/step - loss: 0.1628 - f1_score_macro: 0.7876\n"
          ]
        }
      ]
    },
    {
      "cell_type": "code",
      "source": [
        "import matplotlib.pyplot as plt\n",
        "def plot_graphs(history, string):\n",
        "    plt.plot(history.history[string])\n",
        "    plt.plot(history.history['val_'+string])\n",
        "    plt.xlabel(\"Epochs\")\n",
        "    plt.ylabel(string)\n",
        "    plt.legend([string, 'val_'+string])\n",
        "    plt.show()"
      ],
      "metadata": {
        "id": "J8EWfyJxpPy4"
      },
      "execution_count": null,
      "outputs": []
    },
    {
      "cell_type": "code",
      "source": [
        "plot_graphs(history_rnn, 'f1_score_macro')"
      ],
      "metadata": {
        "id": "6jmYlnMDu7Xc"
      },
      "execution_count": null,
      "outputs": []
    },
    {
      "cell_type": "code",
      "source": [
        "plot_graphs(history_rnn, 'loss')"
      ],
      "metadata": {
        "id": "DYjCVdMneVH_"
      },
      "execution_count": null,
      "outputs": []
    },
    {
      "cell_type": "markdown",
      "source": [
        "# LSTM"
      ],
      "metadata": {
        "id": "Ru9ug_cIpvHQ"
      }
    },
    {
      "cell_type": "code",
      "source": [
        "model_lstm = Sequential()\n",
        "model_lstm.add(LSTM(input_shape=(timesteps, N), units=128,\n",
        "                   activation='tanh', recurrent_activation='sigmoid',\n",
        "                   kernel_regularizer=l2(PENALTY), recurrent_regularizer=l2(PENALTY),\n",
        "                   dropout=0.0, recurrent_dropout=0.0,\n",
        "                   return_sequences=False, return_state=False,\n",
        "                   stateful=False, unroll=False,\n",
        "                   use_bias=True))\n",
        "model_lstm.add(BatchNormalization())\n",
        "model_lstm.add(Dense(units=CLASSES, activation='softmax'))\n",
        "model_lstm.compile(loss='categorical_crossentropy',\n",
        "                   metrics=[f1_score_macro],\n",
        "              optimizer=Adam(learning_rate=LEARNING_RATE))\n",
        "print(model_lstm.summary())"
      ],
      "metadata": {
        "id": "CbvtJS1mdcbQ"
      },
      "execution_count": null,
      "outputs": []
    },
    {
      "cell_type": "code",
      "source": [
        "history_lstm = model_lstm.fit(X_train, y_train,\n",
        "                        epochs=50,\n",
        "                        batch_size=BATCH_SIZE,\n",
        "                        validation_split=0.0,\n",
        "                        validation_data=(X_test, y_test),\n",
        "                        shuffle=True,\n",
        "                        callbacks=[lr_decay])"
      ],
      "metadata": {
        "id": "MEadQsDu9wYc"
      },
      "execution_count": null,
      "outputs": []
    },
    {
      "cell_type": "code",
      "source": [
        "test_loss_lstm, test_f1_lstm = model_lstm.evaluate(X_test, y_test,\n",
        "                                         batch_size=BATCH_SIZE)"
      ],
      "metadata": {
        "id": "pDlVwQiVjqmy"
      },
      "execution_count": null,
      "outputs": []
    },
    {
      "cell_type": "code",
      "source": [
        "plot_graphs(history_lstm, 'loss')"
      ],
      "metadata": {
        "id": "7Rh6mdFLj3QI"
      },
      "execution_count": null,
      "outputs": []
    },
    {
      "cell_type": "code",
      "source": [
        "plot_graphs(history_lstm, 'f1_score_macro')"
      ],
      "metadata": {
        "id": "8dIfIg7Wqdk7"
      },
      "execution_count": null,
      "outputs": []
    },
    {
      "cell_type": "markdown",
      "source": [
        "# ESN"
      ],
      "metadata": {
        "id": "DWBIDzKfsVm4"
      }
    },
    {
      "cell_type": "code",
      "source": [
        "!pip install tensorflow-addons"
      ],
      "metadata": {
        "colab": {
          "base_uri": "https://localhost:8080/"
        },
        "id": "d5YodKn2sT9-",
        "outputId": "abd1594c-9284-42e3-c4cd-351e586ccc34"
      },
      "execution_count": null,
      "outputs": [
        {
          "output_type": "stream",
          "name": "stdout",
          "text": [
            "Collecting tensorflow-addons\n",
            "  Downloading tensorflow_addons-0.16.1-cp37-cp37m-manylinux_2_12_x86_64.manylinux2010_x86_64.whl (1.1 MB)\n",
            "\u001b[K     |████████████████████████████████| 1.1 MB 5.3 MB/s \n",
            "\u001b[?25hRequirement already satisfied: typeguard>=2.7 in /usr/local/lib/python3.7/dist-packages (from tensorflow-addons) (2.7.1)\n",
            "Installing collected packages: tensorflow-addons\n",
            "Successfully installed tensorflow-addons-0.16.1\n"
          ]
        }
      ]
    },
    {
      "cell_type": "code",
      "source": [
        "from tensorflow_addons.layers import ESN\n"
      ],
      "metadata": {
        "id": "7REq3YgtsUBI"
      },
      "execution_count": null,
      "outputs": []
    },
    {
      "cell_type": "code",
      "source": [
        "esn = Sequential()\n",
        "esn.add(ESN(input_shape=(timesteps, N), units=512, \n",
        "            return_sequences=False))\n",
        "esn.add(BatchNormalization())\n",
        "esn.add(Dense(128, activation=\"sigmoid\", kernel_regularizer=l2(PENALTY)))\n",
        "esn.add(BatchNormalization())\n",
        "esn.add(Dense(CLASSES, activation=\"softmax\"))\n",
        "esn.compile(loss='categorical_crossentropy',\n",
        "            metrics=[f1_score_macro],\n",
        "            optimizer=Adam(LEARNING_RATE))\n",
        "print(esn.summary())"
      ],
      "metadata": {
        "id": "lK7j93GPtYVm"
      },
      "execution_count": null,
      "outputs": []
    },
    {
      "cell_type": "code",
      "source": [
        "history_esn = esn.fit(X_train, y_train,\n",
        "                             epochs=50,\n",
        "                             batch_size=BATCH_SIZE,\n",
        "                             validation_split=0.0,\n",
        "                             validation_data=(X_test, y_test),\n",
        "                             shuffle=True,\n",
        "                      callbacks=[lr_decay])"
      ],
      "metadata": {
        "id": "xndUme0-AMlC"
      },
      "execution_count": null,
      "outputs": []
    },
    {
      "cell_type": "code",
      "source": [
        "test_loss_esn, test_f1_esn = esn.evaluate(X_test, y_test,\n",
        "                                         batch_size=BATCH_SIZE)"
      ],
      "metadata": {
        "id": "tDowaor0xKvq"
      },
      "execution_count": null,
      "outputs": []
    },
    {
      "cell_type": "code",
      "source": [
        "plot_graphs(history_esn, 'loss')"
      ],
      "metadata": {
        "id": "g0uZrN83gFyv"
      },
      "execution_count": null,
      "outputs": []
    },
    {
      "cell_type": "code",
      "source": [
        "plot_graphs(history_esn, 'f1_score_macro')"
      ],
      "metadata": {
        "id": "jkiKAr1LgLWi"
      },
      "execution_count": null,
      "outputs": []
    }
  ]
}